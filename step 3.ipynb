{
 "cells": [
  {
   "cell_type": "markdown",
   "id": "a7c954dd",
   "metadata": {},
   "source": [
    "# 3단계"
   ]
  },
  {
   "cell_type": "markdown",
   "id": "dd8dd24d",
   "metadata": {},
   "source": [
    "## 2739\t구구단"
   ]
  },
  {
   "cell_type": "code",
   "execution_count": 2,
   "id": "cdb8038e",
   "metadata": {},
   "outputs": [
    {
     "name": "stdout",
     "output_type": "stream",
     "text": [
      "1\n",
      "1 * 1 = 1\n",
      "1 * 2 = 2\n",
      "1 * 3 = 3\n",
      "1 * 4 = 4\n",
      "1 * 5 = 5\n",
      "1 * 6 = 6\n",
      "1 * 7 = 7\n",
      "1 * 8 = 8\n",
      "1 * 9 = 9\n"
     ]
    }
   ],
   "source": [
    "a = int(input())\n",
    "\n",
    "for i in range(1, 10):\n",
    "    print(\"{} * {} = {}\".format(a,i,(a*i)))"
   ]
  },
  {
   "cell_type": "markdown",
   "id": "e864ad9d",
   "metadata": {},
   "source": [
    "## 10950\tA+B - 3"
   ]
  },
  {
   "cell_type": "code",
   "execution_count": 5,
   "id": "52eed84a",
   "metadata": {},
   "outputs": [
    {
     "name": "stdout",
     "output_type": "stream",
     "text": [
      "5\n",
      "1 1\n",
      "2\n",
      "2 3\n",
      "5\n",
      "3 4\n",
      "7\n",
      "9 8\n",
      "17\n",
      "5 2\n",
      "7\n"
     ]
    }
   ],
   "source": [
    "iterator_num = int(input())\n",
    "\n",
    "for _ in range(iterator_num):\n",
    "    a, b = map(int,input().split())\n",
    "    print(a+b)"
   ]
  },
  {
   "cell_type": "markdown",
   "id": "846d6e32",
   "metadata": {},
   "source": [
    "## 8393\t합"
   ]
  },
  {
   "cell_type": "code",
   "execution_count": 6,
   "id": "5847582f",
   "metadata": {},
   "outputs": [
    {
     "name": "stdout",
     "output_type": "stream",
     "text": [
      "3\n",
      "6\n"
     ]
    }
   ],
   "source": [
    "a = int(input())\n",
    "result = 0\n",
    "for i in range(1,a+1):\n",
    "    result = result + i\n",
    "print(result)"
   ]
  },
  {
   "cell_type": "markdown",
   "id": "300cbb24",
   "metadata": {},
   "source": [
    "## 25304\t영수증"
   ]
  },
  {
   "cell_type": "code",
   "execution_count": 7,
   "id": "64e675be",
   "metadata": {},
   "outputs": [
    {
     "name": "stdout",
     "output_type": "stream",
     "text": [
      "260000\n",
      "4\n",
      "20000 5\n",
      "30000 2\n",
      "10000 6\n",
      "5000 8\n",
      "yes\n"
     ]
    }
   ],
   "source": [
    "money = int(input())\n",
    "buy_money=0\n",
    "iterator_num = int(input())\n",
    "for _ in range(iterator_num):\n",
    "    a, b = map(int,input().split())\n",
    "    buy_money = buy_money + (a*b)\n",
    "    \n",
    "if money == buy_money:\n",
    "    print('Yes')\n",
    "else:\n",
    "    print('No')"
   ]
  },
  {
   "cell_type": "markdown",
   "id": "bd42aaae",
   "metadata": {},
   "source": [
    "## 15552\t빠른 A+B"
   ]
  },
  {
   "cell_type": "code",
   "execution_count": null,
   "id": "fdf6b7d1",
   "metadata": {},
   "outputs": [],
   "source": [
    "\"\"\"\n",
    "import sys\n",
    "a = int(sys.stdin.readline())\n",
    "\n",
    "上の方法で値を得たら早いと言うが\n",
    "多分ヴァージョンが上がってできないみたい\n",
    "あれを使わなくても十分早いからだと思う\n",
    "\n",
    "\"\"\""
   ]
  },
  {
   "cell_type": "markdown",
   "id": "2c1b6c7d",
   "metadata": {},
   "source": [
    "## 11021\tA+B - 7"
   ]
  },
  {
   "cell_type": "code",
   "execution_count": 2,
   "id": "2f8f130e",
   "metadata": {},
   "outputs": [
    {
     "name": "stdout",
     "output_type": "stream",
     "text": [
      "5\n",
      "1 1\n",
      "Case #1: 2\n",
      "2 3\n",
      "Case #2: 5\n",
      "3 4\n",
      "Case #3: 7\n",
      "9 8\n",
      "Case #4: 17\n",
      "5 2\n",
      "Case #5: 7\n"
     ]
    }
   ],
   "source": [
    "iterator_num = int(input())\n",
    "\n",
    "for _ in range(1, iterator_num+1):\n",
    "    a, b = map(int,input().split())\n",
    "    print('Case #{}: {}'.format(_, a+b))"
   ]
  },
  {
   "cell_type": "markdown",
   "id": "8677b007",
   "metadata": {},
   "source": [
    "## 11022\tA+B - 8"
   ]
  },
  {
   "cell_type": "code",
   "execution_count": 3,
   "id": "2722f4e1",
   "metadata": {},
   "outputs": [
    {
     "name": "stdout",
     "output_type": "stream",
     "text": [
      "5\n",
      "1 1\n",
      "Case #1: 1 + 1 = 2\n",
      "2 3\n",
      "Case #2: 2 + 3 = 5\n",
      "3 4\n",
      "Case #3: 3 + 4 = 7\n",
      "9 8\n",
      "Case #4: 9 + 8 = 17\n",
      "5 2\n",
      "Case #5: 5 + 2 = 7\n"
     ]
    }
   ],
   "source": [
    "iterator_num = int(input())\n",
    "\n",
    "for _ in range(1, iterator_num+1):\n",
    "    a, b = map(int,input().split())\n",
    "    print('Case #{}: {} + {} = {}'.format(_, a, b, a+b))"
   ]
  },
  {
   "cell_type": "markdown",
   "id": "a9b504a4",
   "metadata": {},
   "source": [
    "## 2438\t별 찍기 - 1"
   ]
  },
  {
   "cell_type": "code",
   "execution_count": 5,
   "id": "209cd5cf",
   "metadata": {},
   "outputs": [
    {
     "name": "stdout",
     "output_type": "stream",
     "text": [
      "5\n",
      "*\n",
      "**\n",
      "***\n",
      "****\n",
      "*****\n"
     ]
    }
   ],
   "source": [
    "iterator_num = int(input())\n",
    "\n",
    "for _ in range(1, iterator_num+1):\n",
    "    print('*'*_)"
   ]
  },
  {
   "cell_type": "markdown",
   "id": "3836a18a",
   "metadata": {},
   "source": [
    "## 2439\t별 찍기 - 2"
   ]
  },
  {
   "cell_type": "code",
   "execution_count": 8,
   "id": "775504c4",
   "metadata": {},
   "outputs": [
    {
     "name": "stdout",
     "output_type": "stream",
     "text": [
      "5\n",
      "    *\n",
      "   **\n",
      "  ***\n",
      " ****\n",
      "*****\n"
     ]
    }
   ],
   "source": [
    "iterator_num = int(input())\n",
    "\n",
    "for i in range(1, iterator_num+1):\n",
    "    print(' '*( iterator_num - i ) + '*'*i )"
   ]
  },
  {
   "cell_type": "markdown",
   "id": "e206050a",
   "metadata": {},
   "source": [
    "## 10952\tA+B - 5"
   ]
  },
  {
   "cell_type": "code",
   "execution_count": 10,
   "id": "ef89f113",
   "metadata": {},
   "outputs": [
    {
     "name": "stdout",
     "output_type": "stream",
     "text": [
      "1 1\n",
      "2\n",
      "2 3\n",
      "5\n",
      "3 4\n",
      "7\n",
      "9 8\n",
      "17\n",
      "5 2\n",
      "7\n",
      "0 0\n"
     ]
    }
   ],
   "source": [
    "while(True):\n",
    "    a, b = map(int, input().split())\n",
    "    if a == 0 == b:\n",
    "        break\n",
    "    else:\n",
    "        print(a+b)"
   ]
  },
  {
   "cell_type": "markdown",
   "id": "97296bca",
   "metadata": {},
   "source": [
    "## \t10951\tA+B - 4"
   ]
  },
  {
   "cell_type": "code",
   "execution_count": 12,
   "id": "9839230e",
   "metadata": {},
   "outputs": [
    {
     "name": "stdout",
     "output_type": "stream",
     "text": [
      "1 1\n",
      "2\n",
      "awef\n"
     ]
    }
   ],
   "source": [
    "while(True):\n",
    "    try:\n",
    "        a, b = map(int, input().split())\n",
    "        if a == 0 == b:\n",
    "            break\n",
    "        else:\n",
    "            print(a+b)\n",
    "    except:\n",
    "        break"
   ]
  },
  {
   "cell_type": "markdown",
   "id": "8fb257a2",
   "metadata": {},
   "source": [
    "## 1110\t더하기 사이클"
   ]
  },
  {
   "cell_type": "code",
   "execution_count": 2,
   "id": "7c544a0b",
   "metadata": {
    "scrolled": true
   },
   "outputs": [
    {
     "name": "stdout",
     "output_type": "stream",
     "text": [
      "26\n",
      "4\n"
     ]
    }
   ],
   "source": [
    "a = input()\n",
    "\n",
    "if 10 > int(a):\n",
    "    a = '0' + a\n",
    "    \n",
    "mult_result = a\n",
    "cnt = 0\n",
    "\n",
    "while(True):\n",
    "\n",
    "    if mult_result == a and cnt != 0:\n",
    "        break\n",
    "    mult_result = mult_result[1] + str(int(mult_result[0]) + int(mult_result[1]))[-1:]\n",
    "\n",
    "    cnt = cnt+1\n",
    "\n",
    "print(cnt)"
   ]
  },
  {
   "cell_type": "code",
   "execution_count": null,
   "id": "22d52fdd",
   "metadata": {},
   "outputs": [],
   "source": []
  }
 ],
 "metadata": {
  "kernelspec": {
   "display_name": "Python 3 (ipykernel)",
   "language": "python",
   "name": "python3"
  },
  "language_info": {
   "codemirror_mode": {
    "name": "ipython",
    "version": 3
   },
   "file_extension": ".py",
   "mimetype": "text/x-python",
   "name": "python",
   "nbconvert_exporter": "python",
   "pygments_lexer": "ipython3",
   "version": "3.10.8"
  }
 },
 "nbformat": 4,
 "nbformat_minor": 5
}
