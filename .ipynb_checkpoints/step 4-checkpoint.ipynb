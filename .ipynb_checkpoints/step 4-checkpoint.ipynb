{
 "cells": [
  {
   "cell_type": "markdown",
   "id": "c0783ad7",
   "metadata": {},
   "source": [
    "# 4단계 1차원 배열"
   ]
  },
  {
   "cell_type": "markdown",
   "id": "67972be1",
   "metadata": {},
   "source": [
    "## 10807\t개수 세기"
   ]
  },
  {
   "cell_type": "code",
   "execution_count": 1,
   "id": "abc989ae",
   "metadata": {},
   "outputs": [
    {
     "name": "stdout",
     "output_type": "stream",
     "text": [
      "11\n",
      "1 4 1 2 4 2 4 2 3 4 4\n",
      "2\n",
      "3\n"
     ]
    }
   ],
   "source": [
    "a = int(input())\n",
    "b = list(map(int, input().split()))\n",
    "c = int(input())\n",
    "\n",
    "print(b.count(c))"
   ]
  },
  {
   "cell_type": "markdown",
   "id": "dc726e3b",
   "metadata": {},
   "source": [
    "## 10871\tX보다 작은 수"
   ]
  },
  {
   "cell_type": "code",
   "execution_count": 9,
   "id": "bf692b45",
   "metadata": {},
   "outputs": [
    {
     "name": "stdout",
     "output_type": "stream",
     "text": [
      "10 5\n",
      "1 10 4 9 2 3 8 5 7 6\n",
      "1 4 2 3\n"
     ]
    }
   ],
   "source": [
    "a, b = map(int, input().split())\n",
    "c = list(map(int, input().split()))\n",
    "\n",
    "print(' '.join([str(cc) for cc in c if cc < b]))"
   ]
  },
  {
   "cell_type": "markdown",
   "id": "b922d670",
   "metadata": {},
   "source": [
    "## 10818\t최소, 최대"
   ]
  },
  {
   "cell_type": "code",
   "execution_count": 10,
   "id": "54ffe584",
   "metadata": {
    "scrolled": false
   },
   "outputs": [
    {
     "name": "stdout",
     "output_type": "stream",
     "text": [
      "5\n",
      "20 10 35 30 7\n",
      "7 35\n"
     ]
    }
   ],
   "source": [
    "a = int(input())\n",
    "b = list(map(int, input().split()))\n",
    "print(min(b), max(b))"
   ]
  },
  {
   "cell_type": "markdown",
   "id": "054e7126",
   "metadata": {},
   "source": [
    "## 2562\t최댓값"
   ]
  },
  {
   "cell_type": "code",
   "execution_count": null,
   "id": "89beba9d",
   "metadata": {},
   "outputs": [],
   "source": []
  }
 ],
 "metadata": {
  "kernelspec": {
   "display_name": "Python 3 (ipykernel)",
   "language": "python",
   "name": "python3"
  },
  "language_info": {
   "codemirror_mode": {
    "name": "ipython",
    "version": 3
   },
   "file_extension": ".py",
   "mimetype": "text/x-python",
   "name": "python",
   "nbconvert_exporter": "python",
   "pygments_lexer": "ipython3",
   "version": "3.10.8"
  }
 },
 "nbformat": 4,
 "nbformat_minor": 5
}
