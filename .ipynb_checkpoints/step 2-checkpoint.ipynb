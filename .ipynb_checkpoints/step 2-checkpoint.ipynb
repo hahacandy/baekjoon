{
 "cells": [
  {
   "cell_type": "markdown",
   "id": "1cb4bc2b",
   "metadata": {},
   "source": [
    "# 2단계"
   ]
  },
  {
   "cell_type": "markdown",
   "id": "72d32d5b",
   "metadata": {},
   "source": [
    "## \t1330\t두 수 비교하기"
   ]
  },
  {
   "cell_type": "code",
   "execution_count": 4,
   "id": "ae37621c",
   "metadata": {},
   "outputs": [
    {
     "name": "stdout",
     "output_type": "stream",
     "text": [
      "10 2\n",
      ">\n"
     ]
    }
   ],
   "source": [
    "a, b = map(int, input().split())\n",
    "if a<b:\n",
    "    print('<')\n",
    "elif a>b:\n",
    "    print('>')\n",
    "elif a==b:\n",
    "    print('==')"
   ]
  },
  {
   "cell_type": "markdown",
   "id": "dbe662f1",
   "metadata": {},
   "source": [
    "## \t9498\t시험 성적"
   ]
  },
  {
   "cell_type": "code",
   "execution_count": 7,
   "id": "33b62b64",
   "metadata": {},
   "outputs": [
    {
     "name": "stdout",
     "output_type": "stream",
     "text": [
      "100\n",
      "A\n"
     ]
    }
   ],
   "source": [
    "a = int(input())\n",
    "if 100 >= a >= 90:\n",
    "    print('A')\n",
    "elif 89 >= a >= 80:\n",
    "    print('B')\n",
    "elif 79 >= a >= 70:\n",
    "    print('C')\n",
    "elif 69 >= a >= 60:\n",
    "    print('D')\n",
    "else:\n",
    "    print('F')"
   ]
  },
  {
   "cell_type": "markdown",
   "id": "e11ab910",
   "metadata": {},
   "source": [
    "## 2753\t윤년"
   ]
  },
  {
   "cell_type": "code",
   "execution_count": 16,
   "id": "2955e316",
   "metadata": {},
   "outputs": [
    {
     "name": "stdout",
     "output_type": "stream",
     "text": [
      "2000\n",
      "1\n"
     ]
    }
   ],
   "source": [
    "a = int(input())\n",
    "if a%4 == 0 and a%100 !=0:\n",
    "    print(1)\n",
    "elif a%4 == 0 and a%100 == 0 and a%400 == 0:\n",
    "    print(1)\n",
    "else:\n",
    "    print(0)"
   ]
  },
  {
   "cell_type": "markdown",
   "id": "75cb89fe",
   "metadata": {},
   "source": [
    "## 14681\t사분면 고르기"
   ]
  },
  {
   "cell_type": "code",
   "execution_count": 18,
   "id": "303bb49d",
   "metadata": {},
   "outputs": [
    {
     "name": "stdout",
     "output_type": "stream",
     "text": [
      "12\n",
      "5\n",
      "1\n"
     ]
    }
   ],
   "source": [
    "a = int(input())\n",
    "b = int(input())\n",
    "\n",
    "if a>0 and b>0:\n",
    "    print(1)\n",
    "elif a<0 and b>0:\n",
    "    print(2)\n",
    "elif a<0 and b<0:\n",
    "    print(3)\n",
    "elif a>0 and b<0:\n",
    "    print(4)"
   ]
  },
  {
   "cell_type": "markdown",
   "id": "cca5e69b",
   "metadata": {},
   "source": [
    "## \t2884\t알람 시계"
   ]
  },
  {
   "cell_type": "code",
   "execution_count": 22,
   "id": "8f5ccb0f",
   "metadata": {},
   "outputs": [
    {
     "name": "stdout",
     "output_type": "stream",
     "text": [
      "0 30\n",
      "23 45\n"
     ]
    }
   ],
   "source": [
    "a, b = map(int, input().split())\n",
    "minute = b\n",
    "minute = minute + (a*60) -45\n",
    "\n",
    "if minute >= 0:\n",
    "    print(int(minute/60), minute%60)\n",
    "else:\n",
    "    minute = (60*24)+minute\n",
    "    print(int(minute/60), minute%60)"
   ]
  },
  {
   "cell_type": "markdown",
   "id": "c7c010f8",
   "metadata": {},
   "source": [
    "## 2525\t오븐 시계"
   ]
  },
  {
   "cell_type": "code",
   "execution_count": 26,
   "id": "f921cccd",
   "metadata": {},
   "outputs": [
    {
     "name": "stdout",
     "output_type": "stream",
     "text": [
      "23 48\n",
      "25\n",
      "0 13\n"
     ]
    }
   ],
   "source": [
    "a, b = map(int, input().split())\n",
    "c = int(input())\n",
    "\n",
    "minute = b\n",
    "minute = minute + (a*60) + c\n",
    "\n",
    "if minute < (60*24):\n",
    "    print(int(minute/60), minute%60)\n",
    "else:\n",
    "    minute = minute-(60*24)\n",
    "    print(int(minute/60), minute%60)"
   ]
  },
  {
   "cell_type": "markdown",
   "id": "f09b1102",
   "metadata": {},
   "source": [
    "## 2480\t주사위 세개"
   ]
  },
  {
   "cell_type": "code",
   "execution_count": 47,
   "id": "a9aac387",
   "metadata": {},
   "outputs": [
    {
     "name": "stdout",
     "output_type": "stream",
     "text": [
      "6 2 5\n",
      "600\n"
     ]
    }
   ],
   "source": [
    "array = list(map(int, input().split()))\n",
    "if array[0] == array[1] == array[2]:\n",
    "    print(10000+(array[0]*1000))\n",
    "elif array[0] == array[1]:\n",
    "    print(1000+(array[0]*100))\n",
    "elif array[0] == array[2]:\n",
    "    print(1000+(array[0]*100))\n",
    "elif array[1] == array[2]:\n",
    "    print(1000+(array[1]*100))\n",
    "else:\n",
    "    print(max(array)*100)"
   ]
  }
 ],
 "metadata": {
  "kernelspec": {
   "display_name": "Python 3 (ipykernel)",
   "language": "python",
   "name": "python3"
  },
  "language_info": {
   "codemirror_mode": {
    "name": "ipython",
    "version": 3
   },
   "file_extension": ".py",
   "mimetype": "text/x-python",
   "name": "python",
   "nbconvert_exporter": "python",
   "pygments_lexer": "ipython3",
   "version": "3.10.8"
  }
 },
 "nbformat": 4,
 "nbformat_minor": 5
}
