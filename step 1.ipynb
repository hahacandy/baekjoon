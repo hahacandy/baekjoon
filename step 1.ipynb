{
 "cells": [
  {
   "cell_type": "markdown",
   "id": "ee35c5f6",
   "metadata": {},
   "source": [
    "# 1단계 "
   ]
  },
  {
   "cell_type": "markdown",
   "id": "7b4a7061",
   "metadata": {},
   "source": [
    "## 2557 Hello World"
   ]
  },
  {
   "cell_type": "code",
   "execution_count": 1,
   "id": "866ab0b6",
   "metadata": {},
   "outputs": [
    {
     "name": "stdout",
     "output_type": "stream",
     "text": [
      "Hello World!\n"
     ]
    }
   ],
   "source": [
    "print('Hello World!')"
   ]
  },
  {
   "cell_type": "markdown",
   "id": "ca5baeab",
   "metadata": {},
   "source": [
    "## 1000 A+B"
   ]
  },
  {
   "cell_type": "code",
   "execution_count": 2,
   "id": "61441548",
   "metadata": {},
   "outputs": [
    {
     "name": "stdout",
     "output_type": "stream",
     "text": [
      "1 2\n",
      "3\n"
     ]
    }
   ],
   "source": [
    "a,b=map(int,input().split())\n",
    "print(a+b)"
   ]
  },
  {
   "cell_type": "markdown",
   "id": "e049df8b",
   "metadata": {},
   "source": [
    "## 1001 A-B"
   ]
  },
  {
   "cell_type": "code",
   "execution_count": 3,
   "id": "0759b8e6",
   "metadata": {},
   "outputs": [
    {
     "name": "stdout",
     "output_type": "stream",
     "text": [
      "3 2\n",
      "1\n"
     ]
    }
   ],
   "source": [
    "a,b=map(int,input().split())\n",
    "print(a-b)"
   ]
  },
  {
   "cell_type": "markdown",
   "id": "a422f3c3",
   "metadata": {},
   "source": [
    "## 1002 A*B"
   ]
  },
  {
   "cell_type": "code",
   "execution_count": 4,
   "id": "1bb6bb8c",
   "metadata": {},
   "outputs": [
    {
     "name": "stdout",
     "output_type": "stream",
     "text": [
      "1 2\n",
      "2\n"
     ]
    }
   ],
   "source": [
    "a,b=map(int,input().split())\n",
    "print(a*b)"
   ]
  },
  {
   "cell_type": "markdown",
   "id": "1da6088d",
   "metadata": {},
   "source": [
    "## 1008 A/B"
   ]
  },
  {
   "cell_type": "code",
   "execution_count": null,
   "id": "41ec70fe",
   "metadata": {},
   "outputs": [],
   "source": [
    "a,b=map(int,input().split())\n",
    "print(a/b)"
   ]
  },
  {
   "cell_type": "markdown",
   "id": "05e6eddf",
   "metadata": {},
   "source": [
    "## 10869 사칙연산"
   ]
  },
  {
   "cell_type": "code",
   "execution_count": 6,
   "id": "fb769303",
   "metadata": {},
   "outputs": [
    {
     "name": "stdout",
     "output_type": "stream",
     "text": [
      "7 3\n",
      "10\n",
      "4\n",
      "21\n",
      "2\n",
      "1\n"
     ]
    }
   ],
   "source": [
    "a,b=map(int,input().split())\n",
    "print(a+b)\n",
    "print(a-b)\n",
    "print(a*b)\n",
    "print(int(a/b))\n",
    "print(a%b)"
   ]
  },
  {
   "cell_type": "markdown",
   "id": "7768c255",
   "metadata": {},
   "source": [
    "## 10926\t??!"
   ]
  },
  {
   "cell_type": "code",
   "execution_count": 8,
   "id": "a7a9f9a0",
   "metadata": {},
   "outputs": [
    {
     "name": "stdout",
     "output_type": "stream",
     "text": [
      "joonas\n",
      "joonas??!\n"
     ]
    }
   ],
   "source": [
    "a : str = input()\n",
    "a = a + '??!'\n",
    "print(a)"
   ]
  },
  {
   "cell_type": "code",
   "execution_count": null,
   "id": "e95b0148",
   "metadata": {},
   "outputs": [],
   "source": []
  }
 ],
 "metadata": {
  "kernelspec": {
   "display_name": "Python 3 (ipykernel)",
   "language": "python",
   "name": "python3"
  },
  "language_info": {
   "codemirror_mode": {
    "name": "ipython",
    "version": 3
   },
   "file_extension": ".py",
   "mimetype": "text/x-python",
   "name": "python",
   "nbconvert_exporter": "python",
   "pygments_lexer": "ipython3",
   "version": "3.10.8"
  }
 },
 "nbformat": 4,
 "nbformat_minor": 5
}
