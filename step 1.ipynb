{
 "cells": [
  {
   "cell_type": "markdown",
   "id": "99a4c94a",
   "metadata": {},
   "source": [
    "# 1단계 "
   ]
  },
  {
   "cell_type": "markdown",
   "id": "63fc4426",
   "metadata": {},
   "source": [
    "## 2557 Hello World"
   ]
  },
  {
   "cell_type": "code",
   "execution_count": 1,
   "id": "9d1525e4",
   "metadata": {},
   "outputs": [
    {
     "name": "stdout",
     "output_type": "stream",
     "text": [
      "Hello World!\n"
     ]
    }
   ],
   "source": [
    "print('Hello World!')"
   ]
  },
  {
   "cell_type": "markdown",
   "id": "b691984d",
   "metadata": {},
   "source": [
    "## 1000 A+B"
   ]
  },
  {
   "cell_type": "code",
   "execution_count": 2,
   "id": "3bb04dae",
   "metadata": {},
   "outputs": [
    {
     "name": "stdout",
     "output_type": "stream",
     "text": [
      "1 2\n",
      "3\n"
     ]
    }
   ],
   "source": [
    "a,b=map(int,input().split())\n",
    "print(a+b)"
   ]
  },
  {
   "cell_type": "markdown",
   "id": "351a0f9e",
   "metadata": {},
   "source": [
    "## 1001 A-B"
   ]
  },
  {
   "cell_type": "code",
   "execution_count": 3,
   "id": "6243388f",
   "metadata": {},
   "outputs": [
    {
     "name": "stdout",
     "output_type": "stream",
     "text": [
      "3 2\n",
      "1\n"
     ]
    }
   ],
   "source": [
    "a,b=map(int,input().split())\n",
    "print(a-b)"
   ]
  },
  {
   "cell_type": "markdown",
   "id": "114a090d",
   "metadata": {},
   "source": [
    "## 1002 A*B"
   ]
  },
  {
   "cell_type": "code",
   "execution_count": 4,
   "id": "33709a53",
   "metadata": {},
   "outputs": [
    {
     "name": "stdout",
     "output_type": "stream",
     "text": [
      "1 2\n",
      "2\n"
     ]
    }
   ],
   "source": [
    "a,b=map(int,input().split())\n",
    "print(a*b)"
   ]
  },
  {
   "cell_type": "markdown",
   "id": "188bc502",
   "metadata": {},
   "source": [
    "## 1008 A/B"
   ]
  },
  {
   "cell_type": "code",
   "execution_count": null,
   "id": "abe3895f",
   "metadata": {},
   "outputs": [],
   "source": [
    "a,b=map(int,input().split())\n",
    "print(a/b)"
   ]
  },
  {
   "cell_type": "markdown",
   "id": "32f4d8c1",
   "metadata": {},
   "source": [
    "## 10869 사칙연산"
   ]
  },
  {
   "cell_type": "code",
   "execution_count": 6,
   "id": "e4e9632a",
   "metadata": {},
   "outputs": [
    {
     "name": "stdout",
     "output_type": "stream",
     "text": [
      "7 3\n",
      "10\n",
      "4\n",
      "21\n",
      "2\n",
      "1\n"
     ]
    }
   ],
   "source": [
    "a,b=map(int,input().split())\n",
    "print(a+b)\n",
    "print(a-b)\n",
    "print(a*b)\n",
    "print(int(a/b))\n",
    "print(a%b)"
   ]
  },
  {
   "cell_type": "markdown",
   "id": "fa80f318",
   "metadata": {},
   "source": [
    "## 10926\t??!"
   ]
  },
  {
   "cell_type": "code",
   "execution_count": 8,
   "id": "68d39248",
   "metadata": {
    "scrolled": true
   },
   "outputs": [
    {
     "name": "stdout",
     "output_type": "stream",
     "text": [
      "joonas\n",
      "joonas??!\n"
     ]
    }
   ],
   "source": [
    "a : str = input()\n",
    "a = a + '??!'\n",
    "print(a)"
   ]
  },
  {
   "cell_type": "markdown",
   "id": "edf2652e",
   "metadata": {},
   "source": [
    "## 18108\t1998년생인 내가 태국에서는 2541년생?!"
   ]
  },
  {
   "cell_type": "code",
   "execution_count": 10,
   "id": "d8f2ec97",
   "metadata": {},
   "outputs": [
    {
     "name": "stdout",
     "output_type": "stream",
     "text": [
      "2541\n",
      "1998\n"
     ]
    }
   ],
   "source": [
    "a : int = int(input())\n",
    "a = a - 543\n",
    "print(a)"
   ]
  },
  {
   "cell_type": "markdown",
   "id": "35843bf2",
   "metadata": {},
   "source": [
    "## 3003\t킹, 퀸, 룩, 비숍, 나이트, 폰"
   ]
  },
  {
   "cell_type": "code",
   "execution_count": 12,
   "id": "11ce09ee",
   "metadata": {},
   "outputs": [
    {
     "name": "stdout",
     "output_type": "stream",
     "text": [
      "0 1 2 2 2 7\n",
      "1 0 0 0 0 1\n"
     ]
    }
   ],
   "source": [
    "a, b, c, d, e, f=map(int,input().split())\n",
    "a = 1-a\n",
    "b = 1-b\n",
    "c = 2-c\n",
    "d = 2-d\n",
    "e = 2-e\n",
    "f = 8-f\n",
    "print(a, b, c, d, e, f)"
   ]
  },
  {
   "cell_type": "markdown",
   "id": "9fc93755",
   "metadata": {},
   "source": [
    "## 10430\t나머지"
   ]
  },
  {
   "cell_type": "code",
   "execution_count": 14,
   "id": "48b308e2",
   "metadata": {},
   "outputs": [
    {
     "name": "stdout",
     "output_type": "stream",
     "text": [
      "5 8 4\n",
      "1\n",
      "1\n",
      "0\n",
      "0\n"
     ]
    }
   ],
   "source": [
    "A, B, C = map(int,input().split())\n",
    "print((A+B)%C)\n",
    "print(((A%C) + (B%C))%C)\n",
    "print((A*B)%C)\n",
    "print(((A%C) * (B%C))%C)"
   ]
  },
  {
   "cell_type": "markdown",
   "id": "1d20ca8c",
   "metadata": {},
   "source": [
    "## 2588\t곱셈"
   ]
  },
  {
   "cell_type": "code",
   "execution_count": 41,
   "id": "af57473e",
   "metadata": {
    "scrolled": true
   },
   "outputs": [
    {
     "name": "stdout",
     "output_type": "stream",
     "text": [
      "472\n",
      "385\n",
      "2360\n",
      "3776\n",
      "1416\n",
      "181720\n"
     ]
    }
   ],
   "source": [
    "A = input()\n",
    "B = input()\n",
    "\n",
    "def get_mult(idx):\n",
    "    mult = 0\n",
    "    if idx == 0:\n",
    "        mult = 1\n",
    "    elif idx == 1:\n",
    "        mult = 10\n",
    "    elif idx == 2:\n",
    "        mult = 100\n",
    "    return mult\n",
    "\n",
    "result_sum = 0\n",
    "for idx, i in enumerate(B[::-1]):\n",
    "    result = 0\n",
    "    for  idx2, j in enumerate(A[::-1]):\n",
    "\n",
    "        result = result + ((int(i)*int(j))*get_mult(idx2))\n",
    "    print(result)\n",
    "    result_sum = result_sum + (result*get_mult(idx))\n",
    "print(result_sum)"
   ]
  },
  {
   "cell_type": "code",
   "execution_count": 48,
   "id": "28bec741",
   "metadata": {},
   "outputs": [
    {
     "name": "stdout",
     "output_type": "stream",
     "text": [
      "472\n",
      "385\n",
      "2360\n",
      "3776\n",
      "1416\n",
      "181720\n"
     ]
    }
   ],
   "source": [
    "A = input()\n",
    "B = input()\n",
    "print(int(A)*int(B[2]), int(A)*int(B[1]), int(A)*int(B[0]), int(A)*int(B), sep='\\n')"
   ]
  },
  {
   "cell_type": "markdown",
   "id": "b093df3c",
   "metadata": {},
   "source": [
    "#### "
   ]
  }
 ],
 "metadata": {
  "kernelspec": {
   "display_name": "Python 3 (ipykernel)",
   "language": "python",
   "name": "python3"
  },
  "language_info": {
   "codemirror_mode": {
    "name": "ipython",
    "version": 3
   },
   "file_extension": ".py",
   "mimetype": "text/x-python",
   "name": "python",
   "nbconvert_exporter": "python",
   "pygments_lexer": "ipython3",
   "version": "3.10.8"
  }
 },
 "nbformat": 4,
 "nbformat_minor": 5
}
