{
 "cells": [
  {
   "cell_type": "markdown",
   "id": "deb31d05",
   "metadata": {},
   "source": [
    "# 1단계 "
   ]
  },
  {
   "cell_type": "markdown",
   "id": "d7b2c608",
   "metadata": {},
   "source": [
    "## 2557 Hello World"
   ]
  },
  {
   "cell_type": "code",
   "execution_count": 1,
   "id": "dabd9ab2",
   "metadata": {},
   "outputs": [
    {
     "name": "stdout",
     "output_type": "stream",
     "text": [
      "Hello World!\n"
     ]
    }
   ],
   "source": [
    "print('Hello World!')"
   ]
  },
  {
   "cell_type": "markdown",
   "id": "c3715b01",
   "metadata": {},
   "source": [
    "## 1000 A+B"
   ]
  },
  {
   "cell_type": "code",
   "execution_count": 2,
   "id": "ff93f49f",
   "metadata": {},
   "outputs": [
    {
     "name": "stdout",
     "output_type": "stream",
     "text": [
      "1 2\n",
      "3\n"
     ]
    }
   ],
   "source": [
    "a,b=map(int,input().split())\n",
    "print(a+b)"
   ]
  },
  {
   "cell_type": "markdown",
   "id": "14ace76f",
   "metadata": {},
   "source": [
    "## 1001 A-B"
   ]
  },
  {
   "cell_type": "code",
   "execution_count": 3,
   "id": "9f25c4d9",
   "metadata": {},
   "outputs": [
    {
     "name": "stdout",
     "output_type": "stream",
     "text": [
      "3 2\n",
      "1\n"
     ]
    }
   ],
   "source": [
    "a,b=map(int,input().split())\n",
    "print(a-b)"
   ]
  },
  {
   "cell_type": "markdown",
   "id": "7420612a",
   "metadata": {},
   "source": [
    "## 1002 A*B"
   ]
  },
  {
   "cell_type": "code",
   "execution_count": 4,
   "id": "4f00a255",
   "metadata": {},
   "outputs": [
    {
     "name": "stdout",
     "output_type": "stream",
     "text": [
      "1 2\n",
      "2\n"
     ]
    }
   ],
   "source": [
    "a,b=map(int,input().split())\n",
    "print(a*b)"
   ]
  },
  {
   "cell_type": "markdown",
   "id": "bbd6ec9d",
   "metadata": {},
   "source": [
    "## 1008 A/B"
   ]
  },
  {
   "cell_type": "code",
   "execution_count": null,
   "id": "60b40949",
   "metadata": {},
   "outputs": [],
   "source": [
    "a,b=map(int,input().split())\n",
    "print(a/b)"
   ]
  },
  {
   "cell_type": "markdown",
   "id": "3c45ad18",
   "metadata": {},
   "source": [
    "## 10869 사칙연산"
   ]
  },
  {
   "cell_type": "code",
   "execution_count": 6,
   "id": "eaf35e32",
   "metadata": {},
   "outputs": [
    {
     "name": "stdout",
     "output_type": "stream",
     "text": [
      "7 3\n",
      "10\n",
      "4\n",
      "21\n",
      "2\n",
      "1\n"
     ]
    }
   ],
   "source": [
    "a,b=map(int,input().split())\n",
    "print(a+b)\n",
    "print(a-b)\n",
    "print(a*b)\n",
    "print(int(a/b))\n",
    "print(a%b)"
   ]
  },
  {
   "cell_type": "markdown",
   "id": "08fe8c06",
   "metadata": {},
   "source": [
    "## 10926\t??!"
   ]
  },
  {
   "cell_type": "code",
   "execution_count": 8,
   "id": "b22a1713",
   "metadata": {
    "scrolled": true
   },
   "outputs": [
    {
     "name": "stdout",
     "output_type": "stream",
     "text": [
      "joonas\n",
      "joonas??!\n"
     ]
    }
   ],
   "source": [
    "a : str = input()\n",
    "a = a + '??!'\n",
    "print(a)"
   ]
  },
  {
   "cell_type": "markdown",
   "id": "780dcd8b",
   "metadata": {},
   "source": [
    "## 18108\t1998년생인 내가 태국에서는 2541년생?!"
   ]
  },
  {
   "cell_type": "code",
   "execution_count": 10,
   "id": "8bf7dad8",
   "metadata": {},
   "outputs": [
    {
     "name": "stdout",
     "output_type": "stream",
     "text": [
      "2541\n",
      "1998\n"
     ]
    }
   ],
   "source": [
    "a : int = int(input())\n",
    "a = a - 543\n",
    "print(a)"
   ]
  },
  {
   "cell_type": "markdown",
   "id": "7ea38b3c",
   "metadata": {},
   "source": [
    "## 3003\t킹, 퀸, 룩, 비숍, 나이트, 폰"
   ]
  },
  {
   "cell_type": "code",
   "execution_count": 12,
   "id": "2ad7a571",
   "metadata": {},
   "outputs": [
    {
     "name": "stdout",
     "output_type": "stream",
     "text": [
      "0 1 2 2 2 7\n",
      "1 0 0 0 0 1\n"
     ]
    }
   ],
   "source": [
    "a, b, c, d, e, f=map(int,input().split())\n",
    "a = 1-a\n",
    "b = 1-b\n",
    "c = 2-c\n",
    "d = 2-d\n",
    "e = 2-e\n",
    "f = 8-f\n",
    "print(a, b, c, d, e, f)"
   ]
  },
  {
   "cell_type": "markdown",
   "id": "a7a0c10f",
   "metadata": {},
   "source": [
    "## 10430\t나머지"
   ]
  },
  {
   "cell_type": "code",
   "execution_count": 14,
   "id": "3cefc95e",
   "metadata": {},
   "outputs": [
    {
     "name": "stdout",
     "output_type": "stream",
     "text": [
      "5 8 4\n",
      "1\n",
      "1\n",
      "0\n",
      "0\n"
     ]
    }
   ],
   "source": [
    "A, B, C = map(int,input().split())\n",
    "print((A+B)%C)\n",
    "print(((A%C) + (B%C))%C)\n",
    "print((A*B)%C)\n",
    "print(((A%C) * (B%C))%C)"
   ]
  },
  {
   "cell_type": "markdown",
   "id": "df1faf62",
   "metadata": {},
   "source": [
    "## 2588\t곱셈"
   ]
  },
  {
   "cell_type": "code",
   "execution_count": 41,
   "id": "6d353ba0",
   "metadata": {},
   "outputs": [
    {
     "name": "stdout",
     "output_type": "stream",
     "text": [
      "472\n",
      "385\n",
      "2360\n",
      "3776\n",
      "1416\n",
      "181720\n"
     ]
    }
   ],
   "source": [
    "A = input()\n",
    "B = input()\n",
    "\n",
    "def get_mult(idx):\n",
    "    mult = 0\n",
    "    if idx == 0:\n",
    "        mult = 1\n",
    "    elif idx == 1:\n",
    "        mult = 10\n",
    "    elif idx == 2:\n",
    "        mult = 100\n",
    "    return mult\n",
    "\n",
    "result_sum = 0\n",
    "for idx, i in enumerate(B[::-1]):\n",
    "    result = 0\n",
    "    for  idx2, j in enumerate(A[::-1]):\n",
    "\n",
    "        result = result + ((int(i)*int(j))*get_mult(idx2))\n",
    "    print(result)\n",
    "    result_sum = result_sum + (result*get_mult(idx))\n",
    "print(result_sum)"
   ]
  },
  {
   "cell_type": "code",
   "execution_count": 31,
   "id": "52ed550e",
   "metadata": {},
   "outputs": [
    {
     "data": {
      "text/plain": [
       "2360"
      ]
     },
     "execution_count": 31,
     "metadata": {},
     "output_type": "execute_result"
    }
   ],
   "source": [
    "one"
   ]
  },
  {
   "cell_type": "code",
   "execution_count": 36,
   "id": "1b0ba3b3",
   "metadata": {},
   "outputs": [
    {
     "data": {
      "text/plain": [
       "'574'"
      ]
     },
     "execution_count": 36,
     "metadata": {},
     "output_type": "execute_result"
    }
   ],
   "source": [
    "'475'[::-1]"
   ]
  },
  {
   "cell_type": "code",
   "execution_count": null,
   "id": "2cdc3520",
   "metadata": {},
   "outputs": [],
   "source": []
  }
 ],
 "metadata": {
  "kernelspec": {
   "display_name": "Python 3 (ipykernel)",
   "language": "python",
   "name": "python3"
  },
  "language_info": {
   "codemirror_mode": {
    "name": "ipython",
    "version": 3
   },
   "file_extension": ".py",
   "mimetype": "text/x-python",
   "name": "python",
   "nbconvert_exporter": "python",
   "pygments_lexer": "ipython3",
   "version": "3.10.8"
  }
 },
 "nbformat": 4,
 "nbformat_minor": 5
}
