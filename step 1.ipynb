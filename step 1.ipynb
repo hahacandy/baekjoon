{
 "cells": [
  {
   "cell_type": "markdown",
   "id": "c1f53977",
   "metadata": {},
   "source": [
    "# 1단계 "
   ]
  },
  {
   "cell_type": "markdown",
   "id": "f5fd8ae4",
   "metadata": {},
   "source": [
    "## 2557 Hello World"
   ]
  },
  {
   "cell_type": "code",
   "execution_count": 1,
   "id": "7cc43916",
   "metadata": {},
   "outputs": [
    {
     "name": "stdout",
     "output_type": "stream",
     "text": [
      "Hello World!\n"
     ]
    }
   ],
   "source": [
    "print('Hello World!')"
   ]
  },
  {
   "cell_type": "markdown",
   "id": "d605dcfb",
   "metadata": {},
   "source": [
    "## 1000 A+B"
   ]
  },
  {
   "cell_type": "code",
   "execution_count": 2,
   "id": "e6cc0aee",
   "metadata": {},
   "outputs": [
    {
     "name": "stdout",
     "output_type": "stream",
     "text": [
      "1 2\n",
      "3\n"
     ]
    }
   ],
   "source": [
    "a,b=map(int,input().split())\n",
    "print(a+b)"
   ]
  },
  {
   "cell_type": "markdown",
   "id": "9c1a1819",
   "metadata": {},
   "source": [
    "## 1001 A-B"
   ]
  },
  {
   "cell_type": "code",
   "execution_count": 3,
   "id": "16502901",
   "metadata": {},
   "outputs": [
    {
     "name": "stdout",
     "output_type": "stream",
     "text": [
      "3 2\n",
      "1\n"
     ]
    }
   ],
   "source": [
    "a,b=map(int,input().split())\n",
    "print(a-b)"
   ]
  },
  {
   "cell_type": "markdown",
   "id": "31fb2dc7",
   "metadata": {},
   "source": [
    "## 1002 A*B"
   ]
  },
  {
   "cell_type": "code",
   "execution_count": 4,
   "id": "f3b220b4",
   "metadata": {},
   "outputs": [
    {
     "name": "stdout",
     "output_type": "stream",
     "text": [
      "1 2\n",
      "2\n"
     ]
    }
   ],
   "source": [
    "a,b=map(int,input().split())\n",
    "print(a*b)"
   ]
  },
  {
   "cell_type": "markdown",
   "id": "9f9481c1",
   "metadata": {},
   "source": [
    "## 1008 A/B"
   ]
  },
  {
   "cell_type": "code",
   "execution_count": null,
   "id": "cb2c33b7",
   "metadata": {},
   "outputs": [],
   "source": [
    "a,b=map(int,input().split())\n",
    "print(a/b)"
   ]
  },
  {
   "cell_type": "markdown",
   "id": "b163bdee",
   "metadata": {},
   "source": [
    "## 10869 사칙연산"
   ]
  },
  {
   "cell_type": "code",
   "execution_count": 6,
   "id": "71aa47ec",
   "metadata": {},
   "outputs": [
    {
     "name": "stdout",
     "output_type": "stream",
     "text": [
      "7 3\n",
      "10\n",
      "4\n",
      "21\n",
      "2\n",
      "1\n"
     ]
    }
   ],
   "source": [
    "a,b=map(int,input().split())\n",
    "print(a+b)\n",
    "print(a-b)\n",
    "print(a*b)\n",
    "print(int(a/b))\n",
    "print(a%b)"
   ]
  },
  {
   "cell_type": "markdown",
   "id": "90c7a142",
   "metadata": {},
   "source": [
    "## 10926\t??!"
   ]
  },
  {
   "cell_type": "code",
   "execution_count": 8,
   "id": "e747f40a",
   "metadata": {
    "scrolled": true
   },
   "outputs": [
    {
     "name": "stdout",
     "output_type": "stream",
     "text": [
      "joonas\n",
      "joonas??!\n"
     ]
    }
   ],
   "source": [
    "a : str = input()\n",
    "a = a + '??!'\n",
    "print(a)"
   ]
  },
  {
   "cell_type": "markdown",
   "id": "0df44133",
   "metadata": {},
   "source": [
    "## 18108\t1998년생인 내가 태국에서는 2541년생?!"
   ]
  },
  {
   "cell_type": "code",
   "execution_count": 10,
   "id": "5f0dd461",
   "metadata": {},
   "outputs": [
    {
     "name": "stdout",
     "output_type": "stream",
     "text": [
      "2541\n",
      "1998\n"
     ]
    }
   ],
   "source": [
    "a : int = int(input())\n",
    "a = a - 543\n",
    "print(a)"
   ]
  },
  {
   "cell_type": "markdown",
   "id": "bf33b298",
   "metadata": {},
   "source": [
    "## 3003\t킹, 퀸, 룩, 비숍, 나이트, 폰"
   ]
  },
  {
   "cell_type": "code",
   "execution_count": 11,
   "id": "ab33ad43",
   "metadata": {},
   "outputs": [
    {
     "name": "stdout",
     "output_type": "stream",
     "text": [
      "0 1 2 2 2 7\n",
      "-1 0 0 0 0 -1\n"
     ]
    }
   ],
   "source": [
    "a, b, c, d, e, f=map(int,input().split())\n",
    "a = a-1\n",
    "b = b-1\n",
    "c = c-2\n",
    "d = d-2\n",
    "e = e-2\n",
    "f = f-8\n",
    "print(a, b, c, d, e, f)"
   ]
  },
  {
   "cell_type": "code",
   "execution_count": null,
   "id": "56bc78eb",
   "metadata": {},
   "outputs": [],
   "source": []
  }
 ],
 "metadata": {
  "kernelspec": {
   "display_name": "Python 3 (ipykernel)",
   "language": "python",
   "name": "python3"
  },
  "language_info": {
   "codemirror_mode": {
    "name": "ipython",
    "version": 3
   },
   "file_extension": ".py",
   "mimetype": "text/x-python",
   "name": "python",
   "nbconvert_exporter": "python",
   "pygments_lexer": "ipython3",
   "version": "3.10.8"
  }
 },
 "nbformat": 4,
 "nbformat_minor": 5
}
